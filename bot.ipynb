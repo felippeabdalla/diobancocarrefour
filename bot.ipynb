{
  "nbformat": 4,
  "nbformat_minor": 0,
  "metadata": {
    "colab": {
      "name": "bot.ipynb",
      "provenance": [],
      "mount_file_id": "1rPb4HDGBDBxNZ1J3wZYxc0hYZdSgGw9c",
      "authorship_tag": "ABX9TyNxQeUiwjsM7d9bBPXMnbzD",
      "include_colab_link": true
    },
    "kernelspec": {
      "name": "python3",
      "display_name": "Python 3"
    }
  },
  "cells": [
    {
      "cell_type": "markdown",
      "metadata": {
        "id": "view-in-github",
        "colab_type": "text"
      },
      "source": [
        "<a href=\"https://colab.research.google.com/github/felippeabdalla/diobancocarrefour/blob/master/bot.ipynb\" target=\"_parent\"><img src=\"https://colab.research.google.com/assets/colab-badge.svg\" alt=\"Open In Colab\"/></a>"
      ]
    },
    {
      "cell_type": "code",
      "metadata": {
        "id": "J8F9YMEuZ-0g",
        "colab_type": "code",
        "colab": {
          "base_uri": "https://localhost:8080/",
          "height": 266
        },
        "outputId": "d1042c5c-2470-4860-8f93-a3433d4e3bbe"
      },
      "source": [
        "pip install python-telegram-bot\n"
      ],
      "execution_count": 1,
      "outputs": [
        {
          "output_type": "stream",
          "text": [
            "Collecting python-telegram-bot\n",
            "\u001b[?25l  Downloading https://files.pythonhosted.org/packages/a6/2d/c72fc9a28144277f6170f2fcbfd3bd9427943497522b2689846596eb86cf/python_telegram_bot-12.8-py2.py3-none-any.whl (375kB)\n",
            "\u001b[K     |████████████████████████████████| 378kB 3.3MB/s \n",
            "\u001b[?25hCollecting cryptography\n",
            "\u001b[?25l  Downloading https://files.pythonhosted.org/packages/ba/91/84a29d6a27fd6dfc21f475704c4d2053d58ed7a4033c2b0ce1b4ca4d03d9/cryptography-3.0-cp35-abi3-manylinux2010_x86_64.whl (2.7MB)\n",
            "\u001b[K     |████████████████████████████████| 2.7MB 11.2MB/s \n",
            "\u001b[?25hRequirement already satisfied: certifi in /usr/local/lib/python3.6/dist-packages (from python-telegram-bot) (2020.6.20)\n",
            "Requirement already satisfied: tornado>=5.1 in /usr/local/lib/python3.6/dist-packages (from python-telegram-bot) (5.1.1)\n",
            "Requirement already satisfied: decorator>=4.4.0 in /usr/local/lib/python3.6/dist-packages (from python-telegram-bot) (4.4.2)\n",
            "Requirement already satisfied: six>=1.4.1 in /usr/local/lib/python3.6/dist-packages (from cryptography->python-telegram-bot) (1.15.0)\n",
            "Requirement already satisfied: cffi!=1.11.3,>=1.8 in /usr/local/lib/python3.6/dist-packages (from cryptography->python-telegram-bot) (1.14.1)\n",
            "Requirement already satisfied: pycparser in /usr/local/lib/python3.6/dist-packages (from cffi!=1.11.3,>=1.8->cryptography->python-telegram-bot) (2.20)\n",
            "Installing collected packages: cryptography, python-telegram-bot\n",
            "Successfully installed cryptography-3.0 python-telegram-bot-12.8\n"
          ],
          "name": "stdout"
        }
      ]
    },
    {
      "cell_type": "code",
      "metadata": {
        "id": "eoZiN6fpWxQT",
        "colab_type": "code",
        "colab": {
          "base_uri": "https://localhost:8080/",
          "height": 35
        },
        "outputId": "d3268c33-e78a-43f7-f1d5-3f6591a4d1ab"
      },
      "source": [
        "from telegram.ext import (Updater, CommandHandler, MessageHandler, Filters, RegexHandler, ConversationHandler)\n",
        "from telegram import InlineKeyboardButton, InlineKeyboardMarkup, ReplyKeyboardMarkup\n",
        "import requests\n",
        "\n",
        "#Verificar o TOKEN no readme\n",
        "TOKEN = 'x'\n",
        "\n",
        "#Comando inicial do bot\n",
        "def start(update, context):\n",
        "        firstName = update.message.from_user.first_name\n",
        "        message = \"Olá, \" + firstName + \"!\" + \"\\nDigite o seu CPF para eu localizar seu cadastro (apenas digitos):\"\n",
        "        context.bot.send_message(chat_id=update.message.chat_id, text=message)\n",
        "\n",
        "#Comando fatura\n",
        "def fatura(update, context):\n",
        "        message = \"Acesse sua fatura clicando no link abaixo: \\nhttps://bit.ly/FaturaCarrefour \"\n",
        "        response = (update.message.text)\n",
        "        context.bot.send_message(chat_id=update.message.chat_id, text=message)\n",
        "\n",
        "#Comando vencimento\n",
        "def vencimento(update, context):\n",
        "        message = \"O vencimento da sua fatura é em 10/08/2020\"\n",
        "        context.bot.send_message(chat_id=update.message.chat_id, text=message)\n",
        "\n",
        "#Comando fechamento\n",
        "def fechamento(update, context):\n",
        "        message = \"O fechamento da sua fatura é em 05/08/2020\"\n",
        "        context.bot.send_message(chat_id=update.message.chat_id, text=message)\n",
        "\n",
        "#Comando para verificar CPF em banco de dados e enviar opções para o cliente\n",
        "def CPF(update, context):\n",
        "        message = \"Você digitou:\"\n",
        "        message2 = \"Digite uma das opções: \\n /fatura - Solicitar 2ª via da fatura \\n /vencimento - Verificar data de vencimento \\n /fechamento - Verificar data de fechamento\"\n",
        "        context.bot.send_message(chat_id=update.message.chat_id, text=message)     \n",
        "        update.message.reply_text(update.message.text)\n",
        "        context.bot.send_message(chat_id=update.message.chat_id, text=message2)   \n",
        "      \n",
        "def main():\n",
        "  try:       \n",
        "        updater = Updater(token=TOKEN, use_context=True)\n",
        "        updater.dispatcher.add_handler(CommandHandler('start', start))\n",
        "        updater.dispatcher.add_handler(CommandHandler('fatura', fatura))\n",
        "        updater.dispatcher.add_handler(CommandHandler('vencimento', vencimento))\n",
        "        updater.dispatcher.add_handler(CommandHandler('fechamento', fechamento))\n",
        "        updater.dispatcher.add_handler(MessageHandler(Filters.text, CPF))\n",
        "        \n",
        "        print(\"Bot Catia em ação: \" + str(updater))\n",
        "        updater.start_polling()\n",
        "        updater.idle()\n",
        "  except Exception as e:\n",
        "        print(str(e))\n",
        "  \n",
        "if __name__ == \"__main__\":\n",
        "    main()\n",
        "\n"
      ],
      "execution_count": null,
      "outputs": [
        {
          "output_type": "stream",
          "text": [
            "Bot Catia em ação: <telegram.ext.updater.Updater object at 0x7f3675c42668>\n"
          ],
          "name": "stdout"
        }
      ]
    }
  ]
}